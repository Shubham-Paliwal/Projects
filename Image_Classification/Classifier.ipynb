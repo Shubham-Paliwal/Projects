{
 "cells": [
  {
   "cell_type": "code",
   "execution_count": 2,
   "metadata": {},
   "outputs": [],
   "source": [
    "import numpy as np\n",
    "import matplotlib.pyplot as plt\n",
    "import os\n",
    "from pathlib import Path\n",
    "import random\n",
    "from keras.preprocessing import image"
   ]
  },
  {
   "cell_type": "markdown",
   "metadata": {},
   "source": [
    "### Data Extraction"
   ]
  },
  {
   "cell_type": "code",
   "execution_count": 115,
   "metadata": {},
   "outputs": [],
   "source": [
    "p = Path(\"Images\")\n",
    "dirs = p.glob(\"*\")\n",
    "x = []\n",
    "y = []\n",
    "label = {}\n",
    "cnt = 0;\n",
    "for folder in dirs:\n",
    "    cur_label = str(folder).split(\"\\\\\")[-1][:-1]\n",
    "    label[cur_label] = cnt\n",
    "    for img in folder.glob(\"*.jpg\"):\n",
    "        cur_img = image.load_img(img, target_size=(30, 30))\n",
    "        cur_img = image.img_to_array(cur_img)\n",
    "        x.append(cur_img)\n",
    "        y.append(cnt)\n",
    "    cnt += 1"
   ]
  },
  {
   "cell_type": "code",
   "execution_count": 116,
   "metadata": {},
   "outputs": [
    {
     "name": "stdout",
     "output_type": "stream",
     "text": [
      "(808, 30, 30, 3) (808,)\n"
     ]
    }
   ],
   "source": [
    "# converting to numpy array\n",
    "x = np.array(x, dtype = 'float32')/255.0\n",
    "y = np.array(y)\n",
    "print(x.shape, y.shape)"
   ]
  },
  {
   "cell_type": "code",
   "execution_count": 117,
   "metadata": {},
   "outputs": [
    {
     "name": "stdout",
     "output_type": "stream",
     "text": [
      "(808, 2700) (808,)\n"
     ]
    }
   ],
   "source": [
    "# flattenig the images into individual pixels\n",
    "x = x.reshape((x.shape[0], -1))\n",
    "print(x.shape, y.shape)"
   ]
  },
  {
   "cell_type": "code",
   "execution_count": 25,
   "metadata": {},
   "outputs": [],
   "source": [
    "# randomizing the data\n",
    "combined = list(zip(x, y))\n",
    "random.shuffle(combined)\n",
    "x[:], y[:] = zip(*combined)"
   ]
  },
  {
   "cell_type": "markdown",
   "metadata": {},
   "source": [
    "### Building The Classifier\n",
    "- Till now we have an x array with some training data\n",
    "- and on y whe have corresponding labels for this data\n",
    "- we have one dictionary \"labels\" which map corresponding y to its respective classname\n",
    "- now we have to build classifier "
   ]
  },
  {
   "cell_type": "code",
   "execution_count": 27,
   "metadata": {},
   "outputs": [],
   "source": [
    "# Step1: splitting the data into their respective classes\n",
    "classes = len(np.unique(y))\n",
    "data = {}\n",
    "for i in range(classes):\n",
    "    data[i] = []\n",
    "for i in range(x.shape[0]):\n",
    "    data[y[i]].append(x[i])\n",
    "for i in range(classes):\n",
    "    data[i] = np.array(data[i])"
   ]
  },
  {
   "cell_type": "code",
   "execution_count": 30,
   "metadata": {},
   "outputs": [
    {
     "name": "stdout",
     "output_type": "stream",
     "text": [
      "(202, 2700)\n",
      "(202, 2700)\n",
      "(202, 2700)\n",
      "(202, 2700)\n"
     ]
    }
   ],
   "source": [
    "# now we have seperated the data into their respective classes\n",
    "for j in range(classes):\n",
    "    print(data[i].shape)"
   ]
  },
  {
   "cell_type": "code",
   "execution_count": 47,
   "metadata": {},
   "outputs": [],
   "source": [
    "# Step2: building our svm model\n",
    "class SVM:\n",
    "    def __init__(self, c = 1.0):\n",
    "        self.c = c\n",
    "    def hingeloss(self, x, y):\n",
    "        loss = 0.5*np.dot(self.w, self.w.T)\n",
    "        for i in range(x.shape[0]):\n",
    "            ti = y[i]*(np.dot(x[i], self.w.T) + self.b)\n",
    "            loss += self.c*max(0, 1 - ti)\n",
    "        return loss[0][0]\n",
    "    # n = learning_rate\n",
    "    # itr = no of iterations we want to do\n",
    "    # batch = batch size\n",
    "    def fit(self, x, y, b_sz, n, itr):\n",
    "        self.w = np.zeros((1, x.shape[1]))\n",
    "        self.b = 0\n",
    "        self.l = [] # loss change as we progress our descent\n",
    "        for i in range(itr):\n",
    "            ids = np.arange(x.shape[0])\n",
    "            np.random.shuffle(ids)\n",
    "            for batch in range(0, x.shape[0], b_sz):\n",
    "                gradw = np.zeros((1, x.shape[1]))\n",
    "                gradb = 0\n",
    "                for k in range(batch, batch + b_sz):\n",
    "                    if k >= x.shape[0]:\n",
    "                        break\n",
    "                    curr = ids[k]\n",
    "                    ti = y[curr]*(np.dot(x[curr], self.w.T) + self.b)\n",
    "                    if ti <= 1:\n",
    "                        gradw += self.c*y[curr]*x[curr]\n",
    "                        gradb += self.c*y[curr]\n",
    "                self.w = self.w - n*self.w + n*gradw\n",
    "                self.b = self.b - n*self.b + n*gradb\n",
    "            self.l.append(self.hingeloss(x, y))"
   ]
  },
  {
   "cell_type": "code",
   "execution_count": 49,
   "metadata": {},
   "outputs": [],
   "source": [
    "# Step3 building (classes)C(2) classifiers one for each possible pair\n",
    "def combine_data(d1, d2): # combining data for chosen pair to train in svm model\n",
    "    l1, l2 = d1.shape[0], d2.shape[0]\n",
    "    f = d1.shape[1]\n",
    "    dx = np.zeros((l1 + l2, f))\n",
    "    dy = np.zeros((l1 + l2, ))\n",
    "    dx[:l1] = d1\n",
    "    dx[l1:] = d2\n",
    "    dy[:l1] = -1\n",
    "    dy[l1:] = 1\n",
    "    return dx, dy"
   ]
  },
  {
   "cell_type": "code",
   "execution_count": 61,
   "metadata": {},
   "outputs": [
    {
     "name": "stdout",
     "output_type": "stream",
     "text": [
      "[[-0.00099031  0.0141501   0.00768251 ... -0.04389376 -0.02882522\n",
      "  -0.03430707]] -0.025830391277182178\n"
     ]
    },
    {
     "data": {
      "image/png": "[encoded data removed]",
      "text/plain": [
       "<Figure size 432x288 with 1 Axes>"
      ]
     },
     "metadata": {
      "needs_background": "light"
     },
     "output_type": "display_data"
    },
    {
     "name": "stdout",
     "output_type": "stream",
     "text": [
      "[[ 0.00882171  0.02806035  0.03065635 ...  0.00683761  0.00911432\n",
      "  -0.00791903]] -0.12339219212054922\n"
     ]
    },
    {
     "data": {
      "image/png": "[encoded data removed]",
      "text/plain": [
       "<Figure size 432x288 with 1 Axes>"
      ]
     },
     "metadata": {
      "needs_background": "light"
     },
     "output_type": "display_data"
    },
    {
     "name": "stdout",
     "output_type": "stream",
     "text": [
      "[[0.04243794 0.05247805 0.04966636 ... 0.02108973 0.02432162 0.01964386]] -0.03552955899111602\n"
     ]
    },
    {
     "data": {
      "image/png": "[encoded data removed]",
      "text/plain": [
       "<Figure size 432x288 with 1 Axes>"
      ]
     },
     "metadata": {
      "needs_background": "light"
     },
     "output_type": "display_data"
    },
    {
     "name": "stdout",
     "output_type": "stream",
     "text": [
      "[[0.01205839 0.01402605 0.02375359 ... 0.03460551 0.02881268 0.02236644]] -0.09256309641159494\n"
     ]
    },
    {
     "data": {
      "image/png": "[encoded data removed]",
      "text/plain": [
       "<Figure size 432x288 with 1 Axes>"
      ]
     },
     "metadata": {
      "needs_background": "light"
     },
     "output_type": "display_data"
    },
    {
     "name": "stdout",
     "output_type": "stream",
     "text": [
      "[[0.04267281 0.03902474 0.03935431 ... 0.04746832 0.04760574 0.03984319]] -0.010881800725002973\n"
     ]
    },
    {
     "data": {
      "image/png": "[encoded data removed]",
      "text/plain": [
       "<Figure size 432x288 with 1 Axes>"
      ]
     },
     "metadata": {
      "needs_background": "light"
     },
     "output_type": "display_data"
    },
    {
     "name": "stdout",
     "output_type": "stream",
     "text": [
      "[[0.03374677 0.0271306  0.02578825 ... 0.02069316 0.02817638 0.02932251]] 0.07450457525542173\n"
     ]
    },
    {
     "data": {
      "image/png": "[encoded data removed]",
      "text/plain": [
       "<Figure size 432x288 with 1 Axes>"
      ]
     },
     "metadata": {
      "needs_background": "light"
     },
     "output_type": "display_data"
    }
   ],
   "source": [
    "# training our (classes)C(2) classifiers\n",
    "mysvm = SVM()\n",
    "def train(data, classes):\n",
    "    svm_classifiers = {}\n",
    "    for i in range(classes):\n",
    "        svm_classifiers[i] = {}\n",
    "        for j in range(i + 1, classes):\n",
    "            dx, dt = combine_data(data[i], data[j])\n",
    "            mysvm.fit(dx, dt, 100, 0.00001, 1000)\n",
    "            print(mysvm.w, mysvm.b)\n",
    "            svm_classifiers[i][j] = (mysvm.w, mysvm.b)\n",
    "            plt.plot(mysvm.l)  # plotting loss function for each classifier\n",
    "            plt.show()\n",
    "    return svm_classifiers\n",
    "svm_classifier = train(data, classes)"
   ]
  },
  {
   "cell_type": "code",
   "execution_count": 69,
   "metadata": {},
   "outputs": [],
   "source": [
    "# Step4: testing the accuracy of our trained model\n",
    "def prediction(x):\n",
    "    freq = np.zeros(classes)\n",
    "    for i in range(classes):\n",
    "        for j in range(i + 1, classes):\n",
    "            (w, b) = svm_classifier[i][j]\n",
    "            p = np.dot(x, w.T) + b\n",
    "            if p >= 0 :\n",
    "                freq[j] += 1\n",
    "            else :\n",
    "                freq[i] += 1\n",
    "    return np.argmax(freq)\n",
    "def accuracy(x):\n",
    "    cnt = 0\n",
    "    for i in range(x.shape[0]):\n",
    "        if prediction(x[i]) == y[i]:\n",
    "            cnt += 1\n",
    "    return cnt/x.shape[0]"
   ]
  },
  {
   "cell_type": "code",
   "execution_count": 72,
   "metadata": {},
   "outputs": [
    {
     "name": "stdout",
     "output_type": "stream",
     "text": [
      "60.76732673267327\n"
     ]
    }
   ],
   "source": [
    "print(accuracy(x)*100)"
   ]
  },
  {
   "cell_type": "markdown",
   "metadata": {},
   "source": [
    "### Classification using SK Learn"
   ]
  },
  {
   "cell_type": "code",
   "execution_count": 82,
   "metadata": {},
   "outputs": [],
   "source": [
    "import multiprocessing\n",
    "from sklearn.model_selection import GridSearchCV\n",
    "from sklearn import svm"
   ]
  },
  {
   "cell_type": "code",
   "execution_count": 110,
   "metadata": {},
   "outputs": [],
   "source": [
    "params = [\n",
    "    {\n",
    "        'kernel' : ['linear', 'rbf', 'poly', 'sigmoid'],\n",
    "        'C' : [0.1, 0.2, 0.4, 0.5, 1.0, 2.0, 5.0]\n",
    "    }\n",
    "]"
   ]
  },
  {
   "cell_type": "code",
   "execution_count": 111,
   "metadata": {},
   "outputs": [],
   "source": [
    "svc = svm.SVC()\n",
    "gs = GridSearchCV(estimator = svc, param_grid = params, n_jobs= -1)"
   ]
  },
  {
   "cell_type": "code",
   "execution_count": 118,
   "metadata": {},
   "outputs": [
    {
     "data": {
      "text/plain": [
       "GridSearchCV(cv=None, error_score=nan,\n",
       "             estimator=SVC(C=1.0, break_ties=False, cache_size=200,\n",
       "                           class_weight=None, coef0=0.0,\n",
       "                           decision_function_shape='ovr', degree=3,\n",
       "                           gamma='scale', kernel='rbf', max_iter=-1,\n",
       "                           probability=False, random_state=None, shrinking=True,\n",
       "                           tol=0.001, verbose=False),\n",
       "             iid='deprecated', n_jobs=-1,\n",
       "             param_grid=[{'C': [0.1, 0.2, 0.4, 0.5, 1.0, 2.0, 5.0],\n",
       "                          'kernel': ['linear', 'rbf', 'poly', 'sigmoid']}],\n",
       "             pre_dispatch='2*n_jobs', refit=True, return_train_score=False,\n",
       "             scoring=None, verbose=0)"
      ]
     },
     "execution_count": 118,
     "metadata": {},
     "output_type": "execute_result"
    }
   ],
   "source": [
    "gs.fit(x, y)"
   ]
  },
  {
   "cell_type": "code",
   "execution_count": 124,
   "metadata": {},
   "outputs": [
    {
     "name": "stdout",
     "output_type": "stream",
     "text": [
      "99.87623762376238\n",
      "{'C': 5.0, 'kernel': 'rbf'}\n"
     ]
    }
   ],
   "source": [
    "print(100*gs.score(x, y))\n",
    "print(gs.best_params_)"
   ]
  },
  {
   "cell_type": "code",
   "execution_count": null,
   "metadata": {},
   "outputs": [],
   "source": []
  }
 ],
 "metadata": {
  "kernelspec": {
   "display_name": "Python 3",
   "language": "python",
   "name": "python3"
  },
  "language_info": {
   "codemirror_mode": {
    "name": "ipython",
    "version": 3
   },
   "file_extension": ".py",
   "mimetype": "text/x-python",
   "name": "python",
   "nbconvert_exporter": "python",
   "pygments_lexer": "ipython3",
   "version": "3.8.2"
  }
 },
 "nbformat": 4,
 "nbformat_minor": 2
}
